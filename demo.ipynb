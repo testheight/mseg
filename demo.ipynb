{
 "cells": [
  {
   "cell_type": "code",
   "execution_count": 2,
   "metadata": {},
   "outputs": [
    {
     "name": "stderr",
     "output_type": "stream",
     "text": [
      "Time: 2023-02-28 14:50:32,127 -- INFO: ------logger.info-----\n",
      "Time: 2023-02-28 14:50:32,127 -- INFO: ------logger.info-----\n"
     ]
    }
   ],
   "source": [
    "import logging\n",
    " \n",
    "logger = logging.getLogger()\n",
    "logger.setLevel(logging.INFO)  # Log等级总开关\n",
    "log_file_abs = \"flask.log\"\n",
    " \n",
    "stream_handler = logging.StreamHandler()  # 日志控制台输出\n",
    " \n",
    "handler = logging.FileHandler(log_file_abs, mode='w', encoding='UTF-8')  # 日志文件输出\n",
    "handler.setLevel(logging.DEBUG)\n",
    " \n",
    "# 控制台输出格式\n",
    "stream_format = logging.Formatter(\"Time: %(asctime)s -- INFO: %(message)s\")\n",
    " \n",
    "# 文件输出格式\n",
    "logging_format = logging.Formatter(\"Time: %(asctime)s -- INFO: %(message)s\")\n",
    " \n",
    "handler.setFormatter(logging_format)  # 为改处理器handler 选择一个格式化器\n",
    "stream_handler.setFormatter(stream_format)\n",
    " \n",
    "logger.addHandler(handler)  # 为记录器添加 处理方式Handler\n",
    "logger.addHandler(stream_handler)\n",
    " \n",
    "logger.info(\"------logger.info-----\")"
   ]
  },
  {
   "cell_type": "code",
   "execution_count": 14,
   "metadata": {},
   "outputs": [
    {
     "name": "stdout",
     "output_type": "stream",
     "text": [
      "time.struct_time(tm_year=2023, tm_mon=3, tm_mday=1, tm_hour=13, tm_min=40, tm_sec=7, tm_wday=2, tm_yday=60, tm_isdst=0)\n"
     ]
    }
   ],
   "source": [
    "import time\n",
    "print(time.localtime())"
   ]
  },
  {
   "cell_type": "code",
   "execution_count": 3,
   "metadata": {},
   "outputs": [
    {
     "name": "stdout",
     "output_type": "stream",
     "text": [
      "1.000000 c\n"
     ]
    }
   ],
   "source": [
    "print(\"{:.6f} c\".format(1))\n"
   ]
  },
  {
   "cell_type": "code",
   "execution_count": 3,
   "metadata": {},
   "outputs": [
    {
     "name": "stdout",
     "output_type": "stream",
     "text": [
      "67865730\n",
      "torch.Size([1, 2, 512, 512])\n"
     ]
    }
   ],
   "source": [
    "from model.transunet import TransUNet\n",
    "import torch\n",
    "vit = TransUNet(img_dim=512,\n",
    "                          in_channels=3,\n",
    "                          out_channels=128,\n",
    "                          head_num=4,\n",
    "                          mlp_dim=512,\n",
    "                          block_num=8,\n",
    "                          patch_dim=16,\n",
    "                          class_num=2)\n",
    "# print(sum(p.numel() for p in vit.parameters()))\n",
    "print(vit(torch.rand(1, 3, 512, 512)).shape)\n"
   ]
  }
 ],
 "metadata": {
  "kernelspec": {
   "display_name": "base",
   "language": "python",
   "name": "python3"
  },
  "language_info": {
   "codemirror_mode": {
    "name": "ipython",
    "version": 3
   },
   "file_extension": ".py",
   "mimetype": "text/x-python",
   "name": "python",
   "nbconvert_exporter": "python",
   "pygments_lexer": "ipython3",
   "version": "3.9.13"
  },
  "orig_nbformat": 4,
  "vscode": {
   "interpreter": {
    "hash": "ae427aa2e465fffec33c51409f280a7a5059965133c80ad2f1b01fb7ca86caf2"
   }
  }
 },
 "nbformat": 4,
 "nbformat_minor": 2
}
