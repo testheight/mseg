{
 "cells": [
  {
   "cell_type": "code",
   "execution_count": 1,
   "metadata": {},
   "outputs": [
    {
     "name": "stderr",
     "output_type": "stream",
     "text": [
      "Time: 2023-03-14 09:34:29,471 -- INFO: ------logger.info-----\n"
     ]
    }
   ],
   "source": [
    "import logging\n",
    " \n",
    "logger = logging.getLogger()\n",
    "logger.setLevel(logging.INFO)  # Log等级总开关\n",
    "log_file_abs = \"flask.log\"\n",
    " \n",
    "stream_handler = logging.StreamHandler()  # 日志控制台输出\n",
    " \n",
    "handler = logging.FileHandler(log_file_abs, mode='w', encoding='UTF-8')  # 日志文件输出\n",
    "handler.setLevel(logging.DEBUG)\n",
    " \n",
    "# 控制台输出格式\n",
    "stream_format = logging.Formatter(\"Time: %(asctime)s -- INFO: %(message)s\")\n",
    " \n",
    "# 文件输出格式\n",
    "logging_format = logging.Formatter(\"Time: %(asctime)s -- INFO: %(message)s\")\n",
    " \n",
    "handler.setFormatter(logging_format)  # 为改处理器handler 选择一个格式化器\n",
    "stream_handler.setFormatter(stream_format)\n",
    " \n",
    "logger.addHandler(handler)  # 为记录器添加 处理方式Handler\n",
    "logger.addHandler(stream_handler)\n",
    " \n",
    "logger.info(\"------logger.info-----\")"
   ]
  },
  {
   "cell_type": "code",
   "execution_count": 2,
   "metadata": {},
   "outputs": [
    {
     "name": "stdout",
     "output_type": "stream",
     "text": [
      "time.struct_time(tm_year=2023, tm_mon=3, tm_mday=14, tm_hour=9, tm_min=34, tm_sec=29, tm_wday=1, tm_yday=73, tm_isdst=0)\n"
     ]
    }
   ],
   "source": [
    "import time\n",
    "print(time.localtime())"
   ]
  },
  {
   "cell_type": "code",
   "execution_count": 1,
   "metadata": {},
   "outputs": [
    {
     "name": "stdout",
     "output_type": "stream",
     "text": [
      "1.000000\n"
     ]
    }
   ],
   "source": [
    "print(\"{:.6f}\".format(1))"
   ]
  },
  {
   "cell_type": "code",
   "execution_count": 4,
   "metadata": {},
   "outputs": [
    {
     "name": "stdout",
     "output_type": "stream",
     "text": [
      "SGD (\n",
      "Parameter Group 0\n",
      "    dampening: 0\n",
      "    lr: 0.01\n",
      "    maximize: False\n",
      "    momentum: 0.9\n",
      "    nesterov: False\n",
      "    weight_decay: 0.0005\n",
      ")\n",
      "{'gamma': 0.5, 'base_lrs': [0.01], 'last_epoch': 0, '_step_count': 1, 'verbose': False, '_get_lr_called_within_step': False, '_last_lr': [0.01]}\n",
      "CrossEntropyLoss()\n"
     ]
    }
   ],
   "source": [
    "from model.transunet import TransUNet\n",
    "from utils import OhemCrossEntropy2dTensor\n",
    "import torch\n",
    "vit = TransUNet(img_dim=512,\n",
    "                          in_channels=3,\n",
    "                          out_channels=128,\n",
    "                          head_num=4,\n",
    "                          mlp_dim=512,\n",
    "                          block_num=8,\n",
    "                          patch_dim=16,\n",
    "                          class_num=2)\n",
    "\n",
    "# vit(torch.rand(1, 3, 512, 512)).shape\n",
    "optimizer = torch.optim.SGD(vit.parameters(), lr=0.01,momentum=0.9,weight_decay=0.0005)\n",
    "print(optimizer)\n",
    "scheduler=torch.optim.lr_scheduler.ExponentialLR(optimizer,gamma=0.5)\n",
    "print(scheduler.state_dict())\n",
    "a = torch.nn.CrossEntropyLoss(reduction=\"None\")\n",
    "print(a)"
   ]
  },
  {
   "cell_type": "code",
   "execution_count": 5,
   "metadata": {},
   "outputs": [
    {
     "name": "stdout",
     "output_type": "stream",
     "text": [
      "function2\n"
     ]
    }
   ],
   "source": [
    "def function1():\n",
    "    print(\"function1\")\n",
    "\n",
    "def function2():\n",
    "    print(\"function2\")\n",
    "\n",
    "def function3():\n",
    "    print(\"function3\")\n",
    "\n",
    "def call_fun_by_str(fun_str):\n",
    "    eval(fun_str)()\n",
    "\n",
    "call_fun_by_str(\"function2\")"
   ]
  },
  {
   "cell_type": "code",
   "execution_count": 1,
   "metadata": {},
   "outputs": [
    {
     "name": "stdout",
     "output_type": "stream",
     "text": [
      "torch.Size([2, 16, 256, 256])\n"
     ]
    }
   ],
   "source": [
    "import torch\n",
    "import torch.nn as nn\n",
    "import torch.nn.functional as F\n",
    "\n",
    "x = torch.rand(2,64,128,128)\n",
    "\n",
    "# y = F.interpolate(x,size=(128,128), scale_factor=None, mode='bilinear', align_corners=None, recompute_scale_factor=None)\n",
    "# print(y.shape)\n",
    "    \n",
    "trans_conv = nn.ConvTranspose2d(in_channels=64, out_channels=16,kernel_size=2, stride=2)\n",
    "y = trans_conv(x)\n",
    "print(y.shape)\n",
    "\n",
    "# pixel = nn.PixelShuffle(4)\n",
    "# y = pixel(x)\n",
    "# print(y.shape)"
   ]
  },
  {
   "cell_type": "code",
   "execution_count": null,
   "metadata": {},
   "outputs": [],
   "source": [
    "\n"
   ]
  }
 ],
 "metadata": {
  "kernelspec": {
   "display_name": "base",
   "language": "python",
   "name": "python3"
  },
  "language_info": {
   "codemirror_mode": {
    "name": "ipython",
    "version": 3
   },
   "file_extension": ".py",
   "mimetype": "text/x-python",
   "name": "python",
   "nbconvert_exporter": "python",
   "pygments_lexer": "ipython3",
   "version": "3.9.16"
  },
  "orig_nbformat": 4,
  "vscode": {
   "interpreter": {
    "hash": "ae427aa2e465fffec33c51409f280a7a5059965133c80ad2f1b01fb7ca86caf2"
   }
  }
 },
 "nbformat": 4,
 "nbformat_minor": 2
}
